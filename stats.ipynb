{
  "cells": [
    {
      "cell_type": "markdown",
      "metadata": {
        "id": "view-in-github",
        "colab_type": "text"
      },
      "source": [
        "<a href=\"https://colab.research.google.com/github/Veera9014/practice-data-science-code/blob/main/stats.ipynb\" target=\"_parent\"><img src=\"https://colab.research.google.com/assets/colab-badge.svg\" alt=\"Open In Colab\"/></a>"
      ]
    },
    {
      "cell_type": "code",
      "execution_count": null,
      "id": "fd8b33ba",
      "metadata": {
        "id": "fd8b33ba"
      },
      "outputs": [],
      "source": [
        "import pandas as pd"
      ]
    },
    {
      "cell_type": "code",
      "execution_count": null,
      "id": "20e54509",
      "metadata": {
        "id": "20e54509"
      },
      "outputs": [],
      "source": [
        "sal = pd.read_csv('Salaries.csv')"
      ]
    },
    {
      "cell_type": "code",
      "execution_count": null,
      "id": "8100ad37",
      "metadata": {
        "id": "8100ad37",
        "outputId": "cc9fe5d4-44fc-42cf-841e-d7bef494c033"
      },
      "outputs": [
        {
          "data": {
            "text/html": [
              "<div>\n",
              "<style scoped>\n",
              "    .dataframe tbody tr th:only-of-type {\n",
              "        vertical-align: middle;\n",
              "    }\n",
              "\n",
              "    .dataframe tbody tr th {\n",
              "        vertical-align: top;\n",
              "    }\n",
              "\n",
              "    .dataframe thead th {\n",
              "        text-align: right;\n",
              "    }\n",
              "</style>\n",
              "<table border=\"1\" class=\"dataframe\">\n",
              "  <thead>\n",
              "    <tr style=\"text-align: right;\">\n",
              "      <th></th>\n",
              "      <th>rank</th>\n",
              "      <th>discipline</th>\n",
              "      <th>phd</th>\n",
              "      <th>service</th>\n",
              "      <th>sex</th>\n",
              "      <th>salary</th>\n",
              "    </tr>\n",
              "  </thead>\n",
              "  <tbody>\n",
              "    <tr>\n",
              "      <th>0</th>\n",
              "      <td>Prof</td>\n",
              "      <td>B</td>\n",
              "      <td>56</td>\n",
              "      <td>49</td>\n",
              "      <td>Male</td>\n",
              "      <td>186960</td>\n",
              "    </tr>\n",
              "    <tr>\n",
              "      <th>1</th>\n",
              "      <td>Prof</td>\n",
              "      <td>A</td>\n",
              "      <td>20</td>\n",
              "      <td>20</td>\n",
              "      <td>Male</td>\n",
              "      <td>122400</td>\n",
              "    </tr>\n",
              "    <tr>\n",
              "      <th>2</th>\n",
              "      <td>AssocProf</td>\n",
              "      <td>A</td>\n",
              "      <td>20</td>\n",
              "      <td>17</td>\n",
              "      <td>Male</td>\n",
              "      <td>81285</td>\n",
              "    </tr>\n",
              "    <tr>\n",
              "      <th>3</th>\n",
              "      <td>Prof</td>\n",
              "      <td>B</td>\n",
              "      <td>23</td>\n",
              "      <td>23</td>\n",
              "      <td>Male</td>\n",
              "      <td>134778</td>\n",
              "    </tr>\n",
              "    <tr>\n",
              "      <th>4</th>\n",
              "      <td>AsstProf</td>\n",
              "      <td>B</td>\n",
              "      <td>1</td>\n",
              "      <td>0</td>\n",
              "      <td>Male</td>\n",
              "      <td>88000</td>\n",
              "    </tr>\n",
              "  </tbody>\n",
              "</table>\n",
              "</div>"
            ],
            "text/plain": [
              "        rank discipline  phd  service   sex  salary\n",
              "0       Prof          B   56       49  Male  186960\n",
              "1       Prof          A   20       20  Male  122400\n",
              "2  AssocProf          A   20       17  Male   81285\n",
              "3       Prof          B   23       23  Male  134778\n",
              "4   AsstProf          B    1        0  Male   88000"
            ]
          },
          "execution_count": 3,
          "metadata": {},
          "output_type": "execute_result"
        }
      ],
      "source": [
        "sal.head()"
      ]
    },
    {
      "cell_type": "code",
      "execution_count": null,
      "id": "2c246d27",
      "metadata": {
        "id": "2c246d27"
      },
      "outputs": [],
      "source": [
        "data = [\n",
        "    [100,'Tom','Mgr',3000],\n",
        "    [200,'Mary','Pgmr',4000],\n",
        "    [300,'Pat','HR',2700],\n",
        "    [400,'Pete','Pgmr',3700]\n",
        "]"
      ]
    },
    {
      "cell_type": "code",
      "execution_count": null,
      "id": "b4f1d6c8",
      "metadata": {
        "id": "b4f1d6c8"
      },
      "outputs": [],
      "source": [
        "edf = pd.DataFrame(  data,\n",
        "                     columns=['eid','ename','role','salary'],\n",
        "                     index=['e1','e2','e3','e4']\n",
        "                  )"
      ]
    },
    {
      "cell_type": "code",
      "execution_count": null,
      "id": "0395ea12",
      "metadata": {
        "id": "0395ea12",
        "outputId": "5876a14a-2b2f-4ee9-ee2f-a709459682f3"
      },
      "outputs": [
        {
          "data": {
            "text/html": [
              "<div>\n",
              "<style scoped>\n",
              "    .dataframe tbody tr th:only-of-type {\n",
              "        vertical-align: middle;\n",
              "    }\n",
              "\n",
              "    .dataframe tbody tr th {\n",
              "        vertical-align: top;\n",
              "    }\n",
              "\n",
              "    .dataframe thead th {\n",
              "        text-align: right;\n",
              "    }\n",
              "</style>\n",
              "<table border=\"1\" class=\"dataframe\">\n",
              "  <thead>\n",
              "    <tr style=\"text-align: right;\">\n",
              "      <th></th>\n",
              "      <th>eid</th>\n",
              "      <th>ename</th>\n",
              "      <th>role</th>\n",
              "      <th>salary</th>\n",
              "    </tr>\n",
              "  </thead>\n",
              "  <tbody>\n",
              "    <tr>\n",
              "      <th>e1</th>\n",
              "      <td>100</td>\n",
              "      <td>Tom</td>\n",
              "      <td>Mgr</td>\n",
              "      <td>3000</td>\n",
              "    </tr>\n",
              "    <tr>\n",
              "      <th>e2</th>\n",
              "      <td>200</td>\n",
              "      <td>Mary</td>\n",
              "      <td>Pgmr</td>\n",
              "      <td>4000</td>\n",
              "    </tr>\n",
              "    <tr>\n",
              "      <th>e3</th>\n",
              "      <td>300</td>\n",
              "      <td>Pat</td>\n",
              "      <td>HR</td>\n",
              "      <td>2700</td>\n",
              "    </tr>\n",
              "    <tr>\n",
              "      <th>e4</th>\n",
              "      <td>400</td>\n",
              "      <td>Pete</td>\n",
              "      <td>Pgmr</td>\n",
              "      <td>3700</td>\n",
              "    </tr>\n",
              "  </tbody>\n",
              "</table>\n",
              "</div>"
            ],
            "text/plain": [
              "    eid ename  role  salary\n",
              "e1  100   Tom   Mgr    3000\n",
              "e2  200  Mary  Pgmr    4000\n",
              "e3  300   Pat    HR    2700\n",
              "e4  400  Pete  Pgmr    3700"
            ]
          },
          "execution_count": 6,
          "metadata": {},
          "output_type": "execute_result"
        }
      ],
      "source": [
        "edf"
      ]
    },
    {
      "cell_type": "markdown",
      "id": "909dd93e",
      "metadata": {
        "id": "909dd93e"
      },
      "source": [
        "## Descriptive Statistics"
      ]
    },
    {
      "cell_type": "markdown",
      "id": "dd0a929f",
      "metadata": {
        "id": "dd0a929f"
      },
      "source": [
        "#### Measures of Central Tendency"
      ]
    },
    {
      "cell_type": "code",
      "execution_count": null,
      "id": "4e2c4a59",
      "metadata": {
        "id": "4e2c4a59",
        "outputId": "1893a7a6-30fb-4796-f186-e5c893a5f730"
      },
      "outputs": [
        {
          "data": {
            "text/plain": [
              "106278.56862745098"
            ]
          },
          "execution_count": 7,
          "metadata": {},
          "output_type": "execute_result"
        }
      ],
      "source": [
        "# mean\n",
        "sal['salary'].mean()"
      ]
    },
    {
      "cell_type": "code",
      "execution_count": null,
      "id": "78e1de75",
      "metadata": {
        "id": "78e1de75",
        "outputId": "5912b66c-247a-479e-eccc-4709fb1ff019"
      },
      "outputs": [
        {
          "data": {
            "text/plain": [
              "3350.0"
            ]
          },
          "execution_count": 8,
          "metadata": {},
          "output_type": "execute_result"
        }
      ],
      "source": [
        "edf['salary'].mean()"
      ]
    },
    {
      "cell_type": "code",
      "execution_count": null,
      "id": "0501e1eb",
      "metadata": {
        "id": "0501e1eb",
        "outputId": "e4f84b4c-124d-4206-8974-bae1fba73f04"
      },
      "outputs": [
        {
          "data": {
            "text/plain": [
              "103994.0"
            ]
          },
          "execution_count": 9,
          "metadata": {},
          "output_type": "execute_result"
        }
      ],
      "source": [
        "# Median\n",
        "sal['salary'].median()"
      ]
    },
    {
      "cell_type": "code",
      "execution_count": null,
      "id": "492f0902",
      "metadata": {
        "id": "492f0902",
        "outputId": "64ae536d-75a6-4f9c-9fc7-5aa9529c0704"
      },
      "outputs": [
        {
          "data": {
            "text/plain": [
              "3350.0"
            ]
          },
          "execution_count": 10,
          "metadata": {},
          "output_type": "execute_result"
        }
      ],
      "source": [
        "edf['salary'].median()"
      ]
    },
    {
      "cell_type": "code",
      "execution_count": null,
      "id": "e8378d86",
      "metadata": {
        "id": "e8378d86",
        "outputId": "14f24991-4af1-44e7-f727-13f7d94481a6"
      },
      "outputs": [
        {
          "data": {
            "text/plain": [
              "0    Prof\n",
              "Name: rank, dtype: object"
            ]
          },
          "execution_count": 11,
          "metadata": {},
          "output_type": "execute_result"
        }
      ],
      "source": [
        "# Mode\n",
        "sal['rank'].mode()"
      ]
    },
    {
      "cell_type": "markdown",
      "id": "9a823f49",
      "metadata": {
        "id": "9a823f49"
      },
      "source": [
        "#### Measures of dispersion"
      ]
    },
    {
      "cell_type": "code",
      "execution_count": null,
      "id": "4ed6aa2b",
      "metadata": {
        "id": "4ed6aa2b",
        "outputId": "9b164bf2-26de-4046-a024-68166eb75d6a"
      },
      "outputs": [
        {
          "data": {
            "text/plain": [
              "602.7713773341708"
            ]
          },
          "execution_count": 12,
          "metadata": {},
          "output_type": "execute_result"
        }
      ],
      "source": [
        "# Standard Deviation\n",
        "edf['salary'].std()"
      ]
    },
    {
      "cell_type": "code",
      "execution_count": null,
      "id": "7a8f4b90",
      "metadata": {
        "id": "7a8f4b90",
        "outputId": "d5a43bba-b4d9-4119-a028-cb84414e6e6e"
      },
      "outputs": [
        {
          "data": {
            "text/plain": [
              "363333.3333333333"
            ]
          },
          "execution_count": 13,
          "metadata": {},
          "output_type": "execute_result"
        }
      ],
      "source": [
        "# Variance\n",
        "edf['salary'].var()"
      ]
    },
    {
      "cell_type": "code",
      "execution_count": null,
      "id": "b9261efd",
      "metadata": {
        "id": "b9261efd",
        "outputId": "2b616742-6f07-4275-88af-8b2daf3153fd"
      },
      "outputs": [
        {
          "data": {
            "text/plain": [
              "1300"
            ]
          },
          "execution_count": 14,
          "metadata": {},
          "output_type": "execute_result"
        }
      ],
      "source": [
        "# Range\n",
        "range_val = edf['salary'].max() - edf['salary'].min()\n",
        "range_val"
      ]
    },
    {
      "cell_type": "code",
      "execution_count": null,
      "id": "6ece7252",
      "metadata": {
        "id": "6ece7252",
        "outputId": "929779e0-85fb-41ee-e77d-3c6a9766aef8"
      },
      "outputs": [
        {
          "data": {
            "text/html": [
              "<div>\n",
              "<style scoped>\n",
              "    .dataframe tbody tr th:only-of-type {\n",
              "        vertical-align: middle;\n",
              "    }\n",
              "\n",
              "    .dataframe tbody tr th {\n",
              "        vertical-align: top;\n",
              "    }\n",
              "\n",
              "    .dataframe thead th {\n",
              "        text-align: right;\n",
              "    }\n",
              "</style>\n",
              "<table border=\"1\" class=\"dataframe\">\n",
              "  <thead>\n",
              "    <tr style=\"text-align: right;\">\n",
              "      <th></th>\n",
              "      <th>eid</th>\n",
              "      <th>ename</th>\n",
              "      <th>role</th>\n",
              "      <th>salary</th>\n",
              "    </tr>\n",
              "  </thead>\n",
              "  <tbody>\n",
              "    <tr>\n",
              "      <th>e1</th>\n",
              "      <td>100</td>\n",
              "      <td>Tom</td>\n",
              "      <td>Mgr</td>\n",
              "      <td>3000</td>\n",
              "    </tr>\n",
              "    <tr>\n",
              "      <th>e2</th>\n",
              "      <td>200</td>\n",
              "      <td>Mary</td>\n",
              "      <td>Pgmr</td>\n",
              "      <td>4000</td>\n",
              "    </tr>\n",
              "    <tr>\n",
              "      <th>e3</th>\n",
              "      <td>300</td>\n",
              "      <td>Pat</td>\n",
              "      <td>HR</td>\n",
              "      <td>2700</td>\n",
              "    </tr>\n",
              "    <tr>\n",
              "      <th>e4</th>\n",
              "      <td>400</td>\n",
              "      <td>Pete</td>\n",
              "      <td>Pgmr</td>\n",
              "      <td>3700</td>\n",
              "    </tr>\n",
              "  </tbody>\n",
              "</table>\n",
              "</div>"
            ],
            "text/plain": [
              "    eid ename  role  salary\n",
              "e1  100   Tom   Mgr    3000\n",
              "e2  200  Mary  Pgmr    4000\n",
              "e3  300   Pat    HR    2700\n",
              "e4  400  Pete  Pgmr    3700"
            ]
          },
          "execution_count": 15,
          "metadata": {},
          "output_type": "execute_result"
        }
      ],
      "source": [
        "edf"
      ]
    },
    {
      "cell_type": "markdown",
      "id": "4bb56cc3",
      "metadata": {
        "id": "4bb56cc3"
      },
      "source": [
        "#### Measures of Position"
      ]
    },
    {
      "cell_type": "code",
      "execution_count": null,
      "id": "73c35b07",
      "metadata": {
        "id": "73c35b07",
        "outputId": "cbf4fa0a-24fb-467e-d6ca-8e8943de0ecc"
      },
      "outputs": [
        {
          "data": {
            "text/plain": [
              "2790.0"
            ]
          },
          "execution_count": 16,
          "metadata": {},
          "output_type": "execute_result"
        }
      ],
      "source": [
        "# 10th Percentile / First Decile\n",
        "edf['salary'].quantile(0.1)"
      ]
    },
    {
      "cell_type": "code",
      "execution_count": null,
      "id": "40a94c17",
      "metadata": {
        "id": "40a94c17",
        "outputId": "171e7ec2-b242-406a-949e-f68a0b1765cc"
      },
      "outputs": [
        {
          "data": {
            "text/plain": [
              "73500.0"
            ]
          },
          "execution_count": 17,
          "metadata": {},
          "output_type": "execute_result"
        }
      ],
      "source": [
        "sal['salary'].quantile(0.1)"
      ]
    },
    {
      "cell_type": "code",
      "execution_count": null,
      "id": "f7ea5641",
      "metadata": {
        "id": "f7ea5641",
        "outputId": "58545e80-4508-4aca-90fc-d3a2006de61b"
      },
      "outputs": [
        {
          "data": {
            "text/plain": [
              "86500.0"
            ]
          },
          "execution_count": 29,
          "metadata": {},
          "output_type": "execute_result"
        }
      ],
      "source": [
        "# First Quartile\n",
        "sal['salary'].quantile(0.25)"
      ]
    },
    {
      "cell_type": "code",
      "execution_count": null,
      "id": "32db83e7",
      "metadata": {
        "id": "32db83e7",
        "outputId": "f1666271-319a-41bb-f841-854f19d80592"
      },
      "outputs": [
        {
          "data": {
            "text/plain": [
              "3350.0"
            ]
          },
          "execution_count": 28,
          "metadata": {},
          "output_type": "execute_result"
        }
      ],
      "source": [
        "# 50th Percentile / Second Quartile / Median\n",
        "edf['salary'].quantile(0.5)"
      ]
    },
    {
      "cell_type": "markdown",
      "id": "2fb1626e",
      "metadata": {
        "id": "2fb1626e"
      },
      "source": [
        "## Calculating probabilities"
      ]
    },
    {
      "cell_type": "code",
      "execution_count": null,
      "id": "f9035ffd",
      "metadata": {
        "id": "f9035ffd"
      },
      "outputs": [],
      "source": [
        "from scipy import stats"
      ]
    },
    {
      "cell_type": "code",
      "execution_count": null,
      "id": "fb513315",
      "metadata": {
        "id": "fb513315",
        "outputId": "c92e733c-630e-48b2-aa4b-5e003ea29768"
      },
      "outputs": [
        {
          "data": {
            "text/plain": [
              "0.14254260383881612"
            ]
          },
          "execution_count": 23,
          "metadata": {},
          "output_type": "execute_result"
        }
      ],
      "source": [
        "# Probability of x< 680\n",
        "stats.norm.cdf(680, loc = 711, scale=29)"
      ]
    },
    {
      "cell_type": "code",
      "execution_count": null,
      "id": "4d8d5384",
      "metadata": {
        "id": "4d8d5384",
        "outputId": "6a04c71e-1667-4347-a95c-cb8a69681f09"
      },
      "outputs": [
        {
          "data": {
            "text/plain": [
              "0.621850627348053"
            ]
          },
          "execution_count": 24,
          "metadata": {},
          "output_type": "execute_result"
        }
      ],
      "source": [
        "# Probability of x< 720\n",
        "stats.norm.cdf(720, loc = 711, scale=29)c"
      ]
    },
    {
      "cell_type": "code",
      "execution_count": null,
      "id": "fd0a5af6",
      "metadata": {
        "id": "fd0a5af6",
        "outputId": "06490e55-f2e4-40a1-e913-00c675b96bda"
      },
      "outputs": [
        {
          "data": {
            "text/plain": [
              "0.37814937265194704"
            ]
          },
          "execution_count": 25,
          "metadata": {},
          "output_type": "execute_result"
        }
      ],
      "source": [
        "# Probability of x > 720\n",
        "1 - stats.norm.cdf(720, loc = 711, scale=29)"
      ]
    },
    {
      "cell_type": "code",
      "execution_count": null,
      "id": "d8222ec7",
      "metadata": {
        "id": "d8222ec7",
        "outputId": "405f62c8-d263-430a-fbd3-dd00f1c01206"
      },
      "outputs": [
        {
          "data": {
            "text/plain": [
              "0.47930802350923685"
            ]
          },
          "execution_count": 27,
          "metadata": {},
          "output_type": "execute_result"
        }
      ],
      "source": [
        "# Probability of 680 < x< 720\n",
        "stats.norm.cdf(720, loc = 711, scale=29) - stats.norm.cdf(680, loc = 711, scale=29)"
      ]
    },
    {
      "cell_type": "markdown",
      "id": "5b60e254",
      "metadata": {
        "id": "5b60e254"
      },
      "source": [
        "## Confidence Intervals"
      ]
    },
    {
      "cell_type": "code",
      "execution_count": null,
      "id": "1d9fa774",
      "metadata": {
        "id": "1d9fa774"
      },
      "outputs": [],
      "source": [
        "from scipy import stats\n",
        "import numpy as np"
      ]
    },
    {
      "cell_type": "markdown",
      "id": "ae75040c",
      "metadata": {
        "id": "ae75040c"
      },
      "source": [
        "#### Population Stanadard deviation known"
      ]
    },
    {
      "cell_type": "code",
      "execution_count": null,
      "id": "b5c45c00",
      "metadata": {
        "id": "b5c45c00",
        "outputId": "1b62f229-cf6e-4b26-88f8-9a1cbabc26bb"
      },
      "outputs": [
        {
          "data": {
            "text/plain": [
              "(1575.8820248378292, 2404.1179751621708)"
            ]
          },
          "execution_count": 33,
          "metadata": {},
          "output_type": "execute_result"
        }
      ],
      "source": [
        "confint = stats.norm.interval(0.95,loc=1990, scale = 2500/np.sqrt(140))\n",
        "confint"
      ]
    },
    {
      "cell_type": "code",
      "execution_count": null,
      "id": "b9b0bef5",
      "metadata": {
        "id": "b9b0bef5",
        "outputId": "689c6f65-f7ab-42d3-9b6a-17edb11e4305"
      },
      "outputs": [
        {
          "data": {
            "text/plain": [
              "array([1576., 2404.])"
            ]
          },
          "execution_count": 34,
          "metadata": {},
          "output_type": "execute_result"
        }
      ],
      "source": [
        "np.round(confint)"
      ]
    },
    {
      "cell_type": "code",
      "execution_count": null,
      "id": "4c331560",
      "metadata": {
        "id": "4c331560",
        "outputId": "a6f60f01-e334-42ca-96b6-f842585ecabe"
      },
      "outputs": [
        {
          "data": {
            "text/plain": [
              "(1642.4612396940827, 2337.538760305917)"
            ]
          },
          "execution_count": 35,
          "metadata": {},
          "output_type": "execute_result"
        }
      ],
      "source": [
        "confint = stats.norm.interval(0.90,loc=1990, scale = 2500/np.sqrt(140))\n",
        "confint"
      ]
    },
    {
      "cell_type": "code",
      "execution_count": null,
      "id": "275f6e1f",
      "metadata": {
        "id": "275f6e1f",
        "outputId": "1a592150-b2e7-4c08-fcb8-3f9636372edc"
      },
      "outputs": [
        {
          "data": {
            "text/plain": [
              "array([1642., 2338.])"
            ]
          },
          "execution_count": 36,
          "metadata": {},
          "output_type": "execute_result"
        }
      ],
      "source": [
        "np.round(confint)"
      ]
    },
    {
      "cell_type": "markdown",
      "id": "0b5f01cc",
      "metadata": {
        "id": "0b5f01cc"
      },
      "source": [
        "#### Population Stanadard deviation NOT known"
      ]
    },
    {
      "cell_type": "code",
      "execution_count": null,
      "id": "91d2ddf0",
      "metadata": {
        "id": "91d2ddf0",
        "outputId": "2cc00eae-b0e0-4393-fe87-3b125f3a5449"
      },
      "outputs": [
        {
          "data": {
            "text/plain": [
              "(1516.5999869168315, 2463.4000130831682)"
            ]
          },
          "execution_count": 39,
          "metadata": {},
          "output_type": "execute_result"
        }
      ],
      "source": [
        "confint = stats.t.interval(0.95,df=139,loc=1990, scale = 2833/np.sqrt(140))\n",
        "confint"
      ]
    },
    {
      "cell_type": "code",
      "execution_count": null,
      "id": "18f95b7c",
      "metadata": {
        "id": "18f95b7c",
        "outputId": "4215a249-8725-46d3-be68-ab9387bc0434"
      },
      "outputs": [
        {
          "data": {
            "text/plain": [
              "array([1517., 2463.])"
            ]
          },
          "execution_count": 40,
          "metadata": {},
          "output_type": "execute_result"
        }
      ],
      "source": [
        "np.round(confint)"
      ]
    },
    {
      "cell_type": "markdown",
      "id": "97d7e957",
      "metadata": {
        "id": "97d7e957"
      },
      "source": [
        "### Find Z corresponding to C"
      ]
    },
    {
      "cell_type": "code",
      "execution_count": null,
      "id": "59e15704",
      "metadata": {
        "id": "59e15704",
        "outputId": "61e7c394-8dba-43e0-cbe5-62adae468057"
      },
      "outputs": [
        {
          "data": {
            "text/plain": [
              "-1.9599639845400545"
            ]
          },
          "execution_count": 41,
          "metadata": {},
          "output_type": "execute_result"
        }
      ],
      "source": [
        "stats.norm.ppf(0.025)"
      ]
    },
    {
      "cell_type": "code",
      "execution_count": null,
      "id": "9d545e14",
      "metadata": {
        "id": "9d545e14",
        "outputId": "b1f99941-e5e6-40cc-c43b-2df327358c73"
      },
      "outputs": [
        {
          "data": {
            "text/plain": [
              "-1.2815515655446004"
            ]
          },
          "execution_count": 43,
          "metadata": {},
          "output_type": "execute_result"
        }
      ],
      "source": [
        "stats.norm.ppf(0.10)"
      ]
    },
    {
      "cell_type": "code",
      "execution_count": null,
      "id": "53a3788c",
      "metadata": {
        "id": "53a3788c",
        "outputId": "df77a304-4642-49cf-8a2b-66ca56c058c3"
      },
      "outputs": [
        {
          "data": {
            "text/plain": [
              "-2.575829303548901"
            ]
          },
          "execution_count": 44,
          "metadata": {},
          "output_type": "execute_result"
        }
      ],
      "source": [
        "stats.norm.ppf(0.005)"
      ]
    },
    {
      "cell_type": "markdown",
      "id": "1fbfc10c",
      "metadata": {
        "id": "1fbfc10c"
      },
      "source": [
        "### Find t corresponding to C and df"
      ]
    },
    {
      "cell_type": "code",
      "execution_count": null,
      "id": "903477f7",
      "metadata": {
        "id": "903477f7",
        "outputId": "c929f509-6601-42c9-f29a-8e3f729f563e"
      },
      "outputs": [
        {
          "data": {
            "text/plain": [
              "-1.9771777244761224"
            ]
          },
          "execution_count": 42,
          "metadata": {},
          "output_type": "execute_result"
        }
      ],
      "source": [
        "stats.t.ppf(0.025, df=139)"
      ]
    }
  ],
  "metadata": {
    "kernelspec": {
      "display_name": "Python 3 (ipykernel)",
      "language": "python",
      "name": "python3"
    },
    "language_info": {
      "codemirror_mode": {
        "name": "ipython",
        "version": 3
      },
      "file_extension": ".py",
      "mimetype": "text/x-python",
      "name": "python",
      "nbconvert_exporter": "python",
      "pygments_lexer": "ipython3",
      "version": "3.12.7"
    },
    "colab": {
      "provenance": [],
      "include_colab_link": true
    }
  },
  "nbformat": 4,
  "nbformat_minor": 5
}